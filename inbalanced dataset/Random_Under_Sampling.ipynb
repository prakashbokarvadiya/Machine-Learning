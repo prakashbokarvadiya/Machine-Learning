{
 "cells": [
  {
   "cell_type": "markdown",
   "id": "369ff712-a3ec-45fe-b512-c987896cc9da",
   "metadata": {},
   "source": [
    "# data Balance use this Teaqnic "
   ]
  },
  {
   "cell_type": "code",
   "execution_count": 1,
   "id": "4f6c06a2-1efd-460b-a900-fd75dd72120d",
   "metadata": {},
   "outputs": [],
   "source": [
    "import pandas as pd "
   ]
  },
  {
   "cell_type": "code",
   "execution_count": 2,
   "id": "7e5c17e7-0007-4fea-a221-9040b17b7121",
   "metadata": {},
   "outputs": [
    {
     "data": {
      "text/html": [
       "<div>\n",
       "<style scoped>\n",
       "    .dataframe tbody tr th:only-of-type {\n",
       "        vertical-align: middle;\n",
       "    }\n",
       "\n",
       "    .dataframe tbody tr th {\n",
       "        vertical-align: top;\n",
       "    }\n",
       "\n",
       "    .dataframe thead th {\n",
       "        text-align: right;\n",
       "    }\n",
       "</style>\n",
       "<table border=\"1\" class=\"dataframe\">\n",
       "  <thead>\n",
       "    <tr style=\"text-align: right;\">\n",
       "      <th></th>\n",
       "      <th>User ID</th>\n",
       "      <th>Gender</th>\n",
       "      <th>Age</th>\n",
       "      <th>EstimatedSalary</th>\n",
       "      <th>Purchased</th>\n",
       "    </tr>\n",
       "  </thead>\n",
       "  <tbody>\n",
       "    <tr>\n",
       "      <th>0</th>\n",
       "      <td>15624510</td>\n",
       "      <td>Male</td>\n",
       "      <td>19</td>\n",
       "      <td>19000</td>\n",
       "      <td>0</td>\n",
       "    </tr>\n",
       "    <tr>\n",
       "      <th>1</th>\n",
       "      <td>15810944</td>\n",
       "      <td>Male</td>\n",
       "      <td>35</td>\n",
       "      <td>20000</td>\n",
       "      <td>0</td>\n",
       "    </tr>\n",
       "    <tr>\n",
       "      <th>2</th>\n",
       "      <td>15668575</td>\n",
       "      <td>Female</td>\n",
       "      <td>26</td>\n",
       "      <td>43000</td>\n",
       "      <td>0</td>\n",
       "    </tr>\n",
       "  </tbody>\n",
       "</table>\n",
       "</div>"
      ],
      "text/plain": [
       "    User ID  Gender  Age  EstimatedSalary  Purchased\n",
       "0  15624510    Male   19            19000          0\n",
       "1  15810944    Male   35            20000          0\n",
       "2  15668575  Female   26            43000          0"
      ]
     },
     "execution_count": 2,
     "metadata": {},
     "output_type": "execute_result"
    }
   ],
   "source": [
    "dataset=pd.read_csv(r\"E:\\tops\\Data science\\machine Learning\\14 mbalanced dataset\\Social_Network_Ads.csv\")\n",
    "dataset.head(3)"
   ]
  },
  {
   "cell_type": "code",
   "execution_count": 3,
   "id": "8a95f5d9-eac1-4787-bd80-244ea981e87f",
   "metadata": {},
   "outputs": [],
   "source": [
    "dataset=dataset.drop([\"User ID\",\"Gender\"],axis=1)"
   ]
  },
  {
   "cell_type": "code",
   "execution_count": 4,
   "id": "18ac1a21-a1a2-4d45-a0d9-f613aadcbb27",
   "metadata": {},
   "outputs": [
    {
     "data": {
      "text/html": [
       "<div>\n",
       "<style scoped>\n",
       "    .dataframe tbody tr th:only-of-type {\n",
       "        vertical-align: middle;\n",
       "    }\n",
       "\n",
       "    .dataframe tbody tr th {\n",
       "        vertical-align: top;\n",
       "    }\n",
       "\n",
       "    .dataframe thead th {\n",
       "        text-align: right;\n",
       "    }\n",
       "</style>\n",
       "<table border=\"1\" class=\"dataframe\">\n",
       "  <thead>\n",
       "    <tr style=\"text-align: right;\">\n",
       "      <th></th>\n",
       "      <th>Age</th>\n",
       "      <th>EstimatedSalary</th>\n",
       "      <th>Purchased</th>\n",
       "    </tr>\n",
       "  </thead>\n",
       "  <tbody>\n",
       "    <tr>\n",
       "      <th>0</th>\n",
       "      <td>19</td>\n",
       "      <td>19000</td>\n",
       "      <td>0</td>\n",
       "    </tr>\n",
       "    <tr>\n",
       "      <th>1</th>\n",
       "      <td>35</td>\n",
       "      <td>20000</td>\n",
       "      <td>0</td>\n",
       "    </tr>\n",
       "    <tr>\n",
       "      <th>2</th>\n",
       "      <td>26</td>\n",
       "      <td>43000</td>\n",
       "      <td>0</td>\n",
       "    </tr>\n",
       "  </tbody>\n",
       "</table>\n",
       "</div>"
      ],
      "text/plain": [
       "   Age  EstimatedSalary  Purchased\n",
       "0   19            19000          0\n",
       "1   35            20000          0\n",
       "2   26            43000          0"
      ]
     },
     "execution_count": 4,
     "metadata": {},
     "output_type": "execute_result"
    }
   ],
   "source": [
    "dataset.head(3)"
   ]
  },
  {
   "cell_type": "code",
   "execution_count": 6,
   "id": "80bfcb19-e0a4-4de4-9cb8-0917d7e35da4",
   "metadata": {},
   "outputs": [
    {
     "data": {
      "text/plain": [
       "Purchased\n",
       "0    257\n",
       "1    143\n",
       "Name: count, dtype: int64"
      ]
     },
     "execution_count": 6,
     "metadata": {},
     "output_type": "execute_result"
    }
   ],
   "source": [
    "dataset[\"Purchased\"].value_counts()"
   ]
  },
  {
   "cell_type": "markdown",
   "id": "b309f4ff-6533-4a77-ade6-987ef0ec8032",
   "metadata": {},
   "source": [
    "# sampling "
   ]
  },
  {
   "cell_type": "code",
   "execution_count": 9,
   "id": "65b50982-d5b3-46c0-be7e-163dae3c2204",
   "metadata": {},
   "outputs": [],
   "source": [
    "from imblearn.under_sampling import RandomUnderSampler"
   ]
  },
  {
   "cell_type": "code",
   "execution_count": 16,
   "id": "e122d0dd-752b-4b3d-a270-51f541dd7739",
   "metadata": {},
   "outputs": [],
   "source": [
    "x=dataset.iloc[:,:-1]\n",
    "y=dataset[\"Purchased\"]"
   ]
  },
  {
   "cell_type": "code",
   "execution_count": 14,
   "id": "207b1a38-ce51-4ac0-847f-e629db116984",
   "metadata": {},
   "outputs": [],
   "source": [
    "ru=RandomUnderSampler()"
   ]
  },
  {
   "cell_type": "code",
   "execution_count": 17,
   "id": "50750d90-1eb9-4728-a446-ccc0a0a4bea5",
   "metadata": {},
   "outputs": [],
   "source": [
    "ru_x,ru_y=ru.fit_resample(x,y)"
   ]
  },
  {
   "cell_type": "markdown",
   "id": "d6c89b6d-4d01-4a6f-b2ec-b1709e6691a9",
   "metadata": {},
   "source": [
    "# data divied"
   ]
  },
  {
   "cell_type": "code",
   "execution_count": 12,
   "id": "a1bb704c-6115-4a9a-8520-1a1afd1a9d24",
   "metadata": {},
   "outputs": [],
   "source": [
    "from sklearn.model_selection import train_test_split"
   ]
  },
  {
   "cell_type": "code",
   "execution_count": 18,
   "id": "e0c0df20-10b6-4200-aaf9-7539f84aacf3",
   "metadata": {},
   "outputs": [],
   "source": [
    "x_train,x_test,y_train,y_test=train_test_split(ru_x,ru_y,test_size=0.2,random_state=42)"
   ]
  },
  {
   "cell_type": "markdown",
   "id": "625a1ca9-6310-4f51-94db-614a428c6553",
   "metadata": {},
   "source": [
    "# model train"
   ]
  },
  {
   "cell_type": "code",
   "execution_count": 21,
   "id": "ab2f9daf-c614-41d0-91a3-38c36e2d5dc7",
   "metadata": {},
   "outputs": [],
   "source": [
    "from sklearn.linear_model import LogisticRegression"
   ]
  },
  {
   "cell_type": "code",
   "execution_count": 24,
   "id": "2fd2caeb-8b20-493f-b984-eeb0d107b7b4",
   "metadata": {},
   "outputs": [],
   "source": [
    "lr=LogisticRegression()"
   ]
  },
  {
   "cell_type": "code",
   "execution_count": 26,
   "id": "60e3d47a-49aa-4668-aac0-b77ae8e970cf",
   "metadata": {},
   "outputs": [
    {
     "data": {
      "text/plain": [
       "77.58620689655173"
      ]
     },
     "execution_count": 26,
     "metadata": {},
     "output_type": "execute_result"
    }
   ],
   "source": [
    "lr.fit(x_train,y_train)\n",
    "lr.score(x_test,y_test)*100"
   ]
  },
  {
   "cell_type": "markdown",
   "id": "5660583c-9584-4ab9-8f4a-9f1c8144654f",
   "metadata": {},
   "source": [
    "# matrix  , f1-score  ,  precision-score  ,  recall-score  "
   ]
  },
  {
   "cell_type": "code",
   "execution_count": 38,
   "id": "6725825a-e3b3-4a41-ada5-b84ef8fa31a6",
   "metadata": {},
   "outputs": [],
   "source": [
    "from sklearn.metrics import confusion_matrix ,precision_score, recall_score,f1_score"
   ]
  },
  {
   "cell_type": "code",
   "execution_count": 43,
   "id": "d608b4b6-58d5-4959-a7e0-711d62c426eb",
   "metadata": {},
   "outputs": [
    {
     "data": {
      "text/plain": [
       "array([[19,  5],\n",
       "       [ 8, 26]])"
      ]
     },
     "execution_count": 43,
     "metadata": {},
     "output_type": "execute_result"
    }
   ],
   "source": [
    "cm=confusion_matrix(y_test,lr.predict(x_test))                                     # matrix\n",
    "cm"
   ]
  },
  {
   "cell_type": "code",
   "execution_count": 44,
   "id": "bc31cce3-b403-4660-85b4-ed1a2a7ed6ca",
   "metadata": {},
   "outputs": [
    {
     "data": {
      "text/plain": [
       "83.87096774193549"
      ]
     },
     "execution_count": 44,
     "metadata": {},
     "output_type": "execute_result"
    }
   ],
   "source": [
    "ps=precision_score(y_test,lr.predict(x_test))*100                                  #precision score \n",
    "ps"
   ]
  },
  {
   "cell_type": "code",
   "execution_count": 45,
   "id": "bc41508d-00ac-4265-86bc-38d762f58c9d",
   "metadata": {},
   "outputs": [
    {
     "data": {
      "text/plain": [
       "76.47058823529412"
      ]
     },
     "execution_count": 45,
     "metadata": {},
     "output_type": "execute_result"
    }
   ],
   "source": [
    "rs=recall_score(y_test,lr.predict(x_test))*100                                     # recall score\n",
    "rs"
   ]
  },
  {
   "cell_type": "code",
   "execution_count": 40,
   "id": "af2dd191-e633-4550-8a7e-ec548e0d567e",
   "metadata": {},
   "outputs": [
    {
     "data": {
      "text/plain": [
       "80.0"
      ]
     },
     "execution_count": 40,
     "metadata": {},
     "output_type": "execute_result"
    }
   ],
   "source": [
    "f1=f1_score(y_test,lr.predict(x_test))*100                                         #f1 score \n",
    "f1"
   ]
  }
 ],
 "metadata": {
  "kernelspec": {
   "display_name": "Python 3 (ipykernel)",
   "language": "python",
   "name": "python3"
  },
  "language_info": {
   "codemirror_mode": {
    "name": "ipython",
    "version": 3
   },
   "file_extension": ".py",
   "mimetype": "text/x-python",
   "name": "python",
   "nbconvert_exporter": "python",
   "pygments_lexer": "ipython3",
   "version": "3.13.5"
  }
 },
 "nbformat": 4,
 "nbformat_minor": 5
}
